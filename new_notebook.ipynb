{
 "cells": [
  {
   "cell_type": "markdown",
   "metadata": {},
   "source": [
    "this is what I did;\n",
    "\n",
    "cloned git repository\n",
    "\n",
    "created and activated virtual environment as written in README.md\n",
    "+updated pip\n",
    "\n",
    "Added jupyter to recommended extensions in workspace file in \"ms-toolsai.jupyter\"\n",
    "And to .toml file the versions of the jupyter packages I want to install.\n",
    "line 22:\n",
    "\"my-project[jupyter]\"\n",
    "\n",
    "line 46:\n",
    "jupyter = [\n",
    "    \"notebook>=7.0.0\",\n",
    "    \"jupyterlab>=4.0.0\",\n",
    "    \"ipykernel>=6.0.0\"\n",
    "]\n",
    "\n",
    "ran pip install -e \".[dev]\" to download recommended packages inside active virtual environment.\n",
    "\n",
    "while in venv:\n",
    "python -m pip list\n",
    "to check if all required repositories are installed.\n",
    "\n",
    "created a jupyter file I'm writing in right now."
   ]
  },
  {
   "cell_type": "markdown",
   "metadata": {},
   "source": [
    "Basically we have created a new working environment that will install packages including jupyter in any new computer automatically.\n",
    "\n",
    "The reason we are asked to submit the project file without the venv file is becaues this is where we have installed all the packages. Therefore the file is very large and won't upload to Lamda. \n",
    "\n",
    "The repositories/dependencies of the workspace are installed on the virtual environment (venv) and not on the global environment as required."
   ]
  }
 ],
 "metadata": {
  "kernelspec": {
   "display_name": ".venv",
   "language": "python",
   "name": "python3"
  },
  "language_info": {
   "codemirror_mode": {
    "name": "ipython",
    "version": 3
   },
   "file_extension": ".py",
   "mimetype": "text/x-python",
   "name": "python",
   "nbconvert_exporter": "python",
   "pygments_lexer": "ipython3",
   "version": "3.13.0"
  }
 },
 "nbformat": 4,
 "nbformat_minor": 2
}
