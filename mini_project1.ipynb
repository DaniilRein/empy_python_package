{
 "cells": [
  {
   "cell_type": "markdown",
   "metadata": {},
   "source": [
    "### First question ###"
   ]
  },
  {
   "cell_type": "markdown",
   "metadata": {},
   "source": [
    "The hierarchy I planned:\n",
    "\n",
    "General Neuron\n",
    "    firing_rate\n",
    "    Activate\n",
    "\n",
    "    Sensory Neuron\n",
    "        receptor_type\n",
    "        Sense Stimulus\n",
    "\n",
    "        Photoreceptor\n",
    "            receptor_type\n",
    "            Light Detection\n",
    "            Unique Response to Light\n",
    "\n",
    "        Mechanoreceptor\n",
    "            receptor_type\n",
    "            Pressure Detection\n",
    "            Unique Response to Pressure\n",
    "\n",
    "    Motor Neuron\n",
    "        target_muscle\n",
    "        Control Muscle\n",
    "\n",
    "        Alpha Motor Neuron\n",
    "            target_muscle\n",
    "            Skeletal Muscle Control\n",
    "            Response Specific to Skeletal Muscle\n",
    "\n",
    "        Gamma Motor Neuron\n",
    "            target_muscle\n",
    "            Muscle Spindle Control\n",
    "            Unique Control Mechanism\n"
   ]
  },
  {
   "cell_type": "code",
   "execution_count": null,
   "metadata": {},
   "outputs": [],
   "source": []
  },
  {
   "cell_type": "markdown",
   "metadata": {},
   "source": [
    "### Second question ###"
   ]
  },
  {
   "cell_type": "markdown",
   "metadata": {},
   "source": [
    "### Q1 ###\n"
   ]
  },
  {
   "cell_type": "code",
   "execution_count": null,
   "metadata": {},
   "outputs": [],
   "source": [
    "import numpy as np\n",
    "\n"
   ]
  },
  {
   "cell_type": "markdown",
   "metadata": {},
   "source": [
    "### Q2 ###"
   ]
  },
  {
   "cell_type": "code",
   "execution_count": null,
   "metadata": {},
   "outputs": [],
   "source": [
    "import pandas\n",
    "import matplotlib.pyplot as plt\n",
    "import csv\n",
    "\n",
    "data = 'laptop_price - dataset.csv'\n"
   ]
  },
  {
   "cell_type": "markdown",
   "metadata": {},
   "source": [
    "### Bonus question ###"
   ]
  },
  {
   "cell_type": "code",
   "execution_count": null,
   "metadata": {},
   "outputs": [],
   "source": []
  }
 ],
 "metadata": {
  "kernelspec": {
   "display_name": "venv",
   "language": "python",
   "name": "python3"
  },
  "language_info": {
   "name": "python",
   "version": "3.13.0"
  }
 },
 "nbformat": 4,
 "nbformat_minor": 2
}
